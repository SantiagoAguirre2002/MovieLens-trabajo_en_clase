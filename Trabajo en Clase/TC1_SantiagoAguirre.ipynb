{
 "cells": [
  {
   "cell_type": "code",
   "outputs": [],
   "source": [
    "import pandas as pd"
   ],
   "metadata": {
    "collapsed": false,
    "ExecuteTime": {
     "end_time": "2024-01-30T03:08:50.120971100Z",
     "start_time": "2024-01-30T03:08:50.113583800Z"
    }
   },
   "id": "79e30f7a680ee77f",
   "execution_count": 17
  },
  {
   "cell_type": "code",
   "outputs": [
    {
     "data": {
      "text/plain": "   movieId                               title  \\\n0        1                    Toy Story (1995)   \n1        2                      Jumanji (1995)   \n2        3             Grumpier Old Men (1995)   \n3        4            Waiting to Exhale (1995)   \n4        5  Father of the Bride Part II (1995)   \n\n                                        genres  \n0  Adventure|Animation|Children|Comedy|Fantasy  \n1                   Adventure|Children|Fantasy  \n2                               Comedy|Romance  \n3                         Comedy|Drama|Romance  \n4                                       Comedy  ",
      "text/html": "<div>\n<style scoped>\n    .dataframe tbody tr th:only-of-type {\n        vertical-align: middle;\n    }\n\n    .dataframe tbody tr th {\n        vertical-align: top;\n    }\n\n    .dataframe thead th {\n        text-align: right;\n    }\n</style>\n<table border=\"1\" class=\"dataframe\">\n  <thead>\n    <tr style=\"text-align: right;\">\n      <th></th>\n      <th>movieId</th>\n      <th>title</th>\n      <th>genres</th>\n    </tr>\n  </thead>\n  <tbody>\n    <tr>\n      <th>0</th>\n      <td>1</td>\n      <td>Toy Story (1995)</td>\n      <td>Adventure|Animation|Children|Comedy|Fantasy</td>\n    </tr>\n    <tr>\n      <th>1</th>\n      <td>2</td>\n      <td>Jumanji (1995)</td>\n      <td>Adventure|Children|Fantasy</td>\n    </tr>\n    <tr>\n      <th>2</th>\n      <td>3</td>\n      <td>Grumpier Old Men (1995)</td>\n      <td>Comedy|Romance</td>\n    </tr>\n    <tr>\n      <th>3</th>\n      <td>4</td>\n      <td>Waiting to Exhale (1995)</td>\n      <td>Comedy|Drama|Romance</td>\n    </tr>\n    <tr>\n      <th>4</th>\n      <td>5</td>\n      <td>Father of the Bride Part II (1995)</td>\n      <td>Comedy</td>\n    </tr>\n  </tbody>\n</table>\n</div>"
     },
     "execution_count": 26,
     "metadata": {},
     "output_type": "execute_result"
    }
   ],
   "source": [
    "movies= pd.read_csv('../data/movies.csv')\n",
    "movies.head()"
   ],
   "metadata": {
    "collapsed": false,
    "ExecuteTime": {
     "end_time": "2024-01-30T03:11:26.031931600Z",
     "start_time": "2024-01-30T03:11:26.004217500Z"
    }
   },
   "id": "54c6e9db8cc07202",
   "execution_count": 26
  },
  {
   "cell_type": "code",
   "outputs": [
    {
     "data": {
      "text/plain": "   userId  movieId  rating  timestamp\n0       1        1     4.0  964982703\n1       1        3     4.0  964981247\n2       1        6     4.0  964982224\n3       1       47     5.0  964983815\n4       1       50     5.0  964982931",
      "text/html": "<div>\n<style scoped>\n    .dataframe tbody tr th:only-of-type {\n        vertical-align: middle;\n    }\n\n    .dataframe tbody tr th {\n        vertical-align: top;\n    }\n\n    .dataframe thead th {\n        text-align: right;\n    }\n</style>\n<table border=\"1\" class=\"dataframe\">\n  <thead>\n    <tr style=\"text-align: right;\">\n      <th></th>\n      <th>userId</th>\n      <th>movieId</th>\n      <th>rating</th>\n      <th>timestamp</th>\n    </tr>\n  </thead>\n  <tbody>\n    <tr>\n      <th>0</th>\n      <td>1</td>\n      <td>1</td>\n      <td>4.0</td>\n      <td>964982703</td>\n    </tr>\n    <tr>\n      <th>1</th>\n      <td>1</td>\n      <td>3</td>\n      <td>4.0</td>\n      <td>964981247</td>\n    </tr>\n    <tr>\n      <th>2</th>\n      <td>1</td>\n      <td>6</td>\n      <td>4.0</td>\n      <td>964982224</td>\n    </tr>\n    <tr>\n      <th>3</th>\n      <td>1</td>\n      <td>47</td>\n      <td>5.0</td>\n      <td>964983815</td>\n    </tr>\n    <tr>\n      <th>4</th>\n      <td>1</td>\n      <td>50</td>\n      <td>5.0</td>\n      <td>964982931</td>\n    </tr>\n  </tbody>\n</table>\n</div>"
     },
     "execution_count": 25,
     "metadata": {},
     "output_type": "execute_result"
    }
   ],
   "source": [
    "rating= pd.read_csv('../data/ratings.csv')\n",
    "rating.head()"
   ],
   "metadata": {
    "collapsed": false,
    "ExecuteTime": {
     "end_time": "2024-01-30T03:11:23.498854700Z",
     "start_time": "2024-01-30T03:11:23.443560900Z"
    }
   },
   "id": "df33f933fa3974f1",
   "execution_count": 25
  },
  {
   "cell_type": "code",
   "outputs": [
    {
     "name": "stdout",
     "output_type": "stream",
     "text": [
      "Valores unicos de movieId:<bound method Series.unique of 0            1\n",
      "1            2\n",
      "2            3\n",
      "3            4\n",
      "4            5\n",
      "         ...  \n",
      "9737    193581\n",
      "9738    193583\n",
      "9739    193585\n",
      "9740    193587\n",
      "9741    193609\n",
      "Name: movieId, Length: 9742, dtype: int64>\n",
      "Valores unicos de title:<bound method Series.unique of 0                                Toy Story (1995)\n",
      "1                                  Jumanji (1995)\n",
      "2                         Grumpier Old Men (1995)\n",
      "3                        Waiting to Exhale (1995)\n",
      "4              Father of the Bride Part II (1995)\n",
      "                          ...                    \n",
      "9737    Black Butler: Book of the Atlantic (2017)\n",
      "9738                 No Game No Life: Zero (2017)\n",
      "9739                                 Flint (2017)\n",
      "9740          Bungo Stray Dogs: Dead Apple (2018)\n",
      "9741          Andrew Dice Clay: Dice Rules (1991)\n",
      "Name: title, Length: 9742, dtype: object>\n",
      "Valores unicos de genres:<bound method Series.unique of 0       Adventure|Animation|Children|Comedy|Fantasy\n",
      "1                        Adventure|Children|Fantasy\n",
      "2                                    Comedy|Romance\n",
      "3                              Comedy|Drama|Romance\n",
      "4                                            Comedy\n",
      "                           ...                     \n",
      "9737                Action|Animation|Comedy|Fantasy\n",
      "9738                       Animation|Comedy|Fantasy\n",
      "9739                                          Drama\n",
      "9740                               Action|Animation\n",
      "9741                                         Comedy\n",
      "Name: genres, Length: 9742, dtype: object>\n"
     ]
    }
   ],
   "source": [
    "for i in movies.columns:\n",
    "    print(f'Valores unicos de {i}:{movies[i].unique}')"
   ],
   "metadata": {
    "collapsed": false,
    "ExecuteTime": {
     "end_time": "2024-01-30T03:16:16.139865800Z",
     "start_time": "2024-01-30T03:16:16.117014Z"
    }
   },
   "id": "d584f0752bfdef45",
   "execution_count": 35
  },
  {
   "cell_type": "code",
   "outputs": [
    {
     "data": {
      "text/plain": "movieId    0\ntitle      0\ngenres     0\ndtype: int64"
     },
     "execution_count": 36,
     "metadata": {},
     "output_type": "execute_result"
    }
   ],
   "source": [
    "movies.isnull().sum()"
   ],
   "metadata": {
    "collapsed": false,
    "ExecuteTime": {
     "end_time": "2024-01-30T03:17:18.662842700Z",
     "start_time": "2024-01-30T03:17:18.648463800Z"
    }
   },
   "id": "206735c3a7016693",
   "execution_count": 36
  },
  {
   "cell_type": "code",
   "outputs": [
    {
     "data": {
      "text/plain": "userId       0\nmovieId      0\nrating       0\ntimestamp    0\ndtype: int64"
     },
     "execution_count": 37,
     "metadata": {},
     "output_type": "execute_result"
    }
   ],
   "source": [
    "rating.isnull().sum()"
   ],
   "metadata": {
    "collapsed": false,
    "ExecuteTime": {
     "end_time": "2024-01-30T03:17:33.996028400Z",
     "start_time": "2024-01-30T03:17:33.989123600Z"
    }
   },
   "id": "fc5109aa7e0ae829",
   "execution_count": 37
  },
  {
   "cell_type": "markdown",
   "source": [
    "¿Cuáles fueron los géneros mejor rankeados en promedio en el año 2005?\n"
   ],
   "metadata": {
    "collapsed": false
   },
   "id": "ab2fc219a4b27b41"
  },
  {
   "cell_type": "code",
   "outputs": [
    {
     "data": {
      "text/plain": "   movieId             title                                       genres  \\\n0        1  Toy Story (1995)  Adventure|Animation|Children|Comedy|Fantasy   \n1        1  Toy Story (1995)  Adventure|Animation|Children|Comedy|Fantasy   \n2        1  Toy Story (1995)  Adventure|Animation|Children|Comedy|Fantasy   \n3        1  Toy Story (1995)  Adventure|Animation|Children|Comedy|Fantasy   \n4        1  Toy Story (1995)  Adventure|Animation|Children|Comedy|Fantasy   \n\n   userId  rating   timestamp  \n0       1     4.0   964982703  \n1       5     4.0   847434962  \n2       7     4.5  1106635946  \n3      15     2.5  1510577970  \n4      17     4.5  1305696483  ",
      "text/html": "<div>\n<style scoped>\n    .dataframe tbody tr th:only-of-type {\n        vertical-align: middle;\n    }\n\n    .dataframe tbody tr th {\n        vertical-align: top;\n    }\n\n    .dataframe thead th {\n        text-align: right;\n    }\n</style>\n<table border=\"1\" class=\"dataframe\">\n  <thead>\n    <tr style=\"text-align: right;\">\n      <th></th>\n      <th>movieId</th>\n      <th>title</th>\n      <th>genres</th>\n      <th>userId</th>\n      <th>rating</th>\n      <th>timestamp</th>\n    </tr>\n  </thead>\n  <tbody>\n    <tr>\n      <th>0</th>\n      <td>1</td>\n      <td>Toy Story (1995)</td>\n      <td>Adventure|Animation|Children|Comedy|Fantasy</td>\n      <td>1</td>\n      <td>4.0</td>\n      <td>964982703</td>\n    </tr>\n    <tr>\n      <th>1</th>\n      <td>1</td>\n      <td>Toy Story (1995)</td>\n      <td>Adventure|Animation|Children|Comedy|Fantasy</td>\n      <td>5</td>\n      <td>4.0</td>\n      <td>847434962</td>\n    </tr>\n    <tr>\n      <th>2</th>\n      <td>1</td>\n      <td>Toy Story (1995)</td>\n      <td>Adventure|Animation|Children|Comedy|Fantasy</td>\n      <td>7</td>\n      <td>4.5</td>\n      <td>1106635946</td>\n    </tr>\n    <tr>\n      <th>3</th>\n      <td>1</td>\n      <td>Toy Story (1995)</td>\n      <td>Adventure|Animation|Children|Comedy|Fantasy</td>\n      <td>15</td>\n      <td>2.5</td>\n      <td>1510577970</td>\n    </tr>\n    <tr>\n      <th>4</th>\n      <td>1</td>\n      <td>Toy Story (1995)</td>\n      <td>Adventure|Animation|Children|Comedy|Fantasy</td>\n      <td>17</td>\n      <td>4.5</td>\n      <td>1305696483</td>\n    </tr>\n  </tbody>\n</table>\n</div>"
     },
     "execution_count": 43,
     "metadata": {},
     "output_type": "execute_result"
    }
   ],
   "source": [
    "frame= [movies, rating]\n",
    "df= pd.merge(movies,rating, on='movieId')\n",
    "df.head()"
   ],
   "metadata": {
    "collapsed": false,
    "ExecuteTime": {
     "end_time": "2024-01-30T03:23:34.615238300Z",
     "start_time": "2024-01-30T03:23:34.510684700Z"
    }
   },
   "id": "d2a70949ff063bef",
   "execution_count": 43
  },
  {
   "cell_type": "code",
   "outputs": [
    {
     "data": {
      "text/plain": "0        2000-07-30 18:45:03\n1        1996-11-08 06:36:02\n2        2005-01-25 06:52:26\n3        2017-11-13 12:59:30\n4        2011-05-18 05:28:03\n                 ...        \n100831   2018-09-16 14:44:42\n100832   2018-09-16 14:52:25\n100833   2018-09-16 14:56:45\n100834   2018-09-16 15:00:21\n100835   2018-09-17 04:13:26\nName: timestamp, Length: 100836, dtype: datetime64[ns]"
     },
     "execution_count": 46,
     "metadata": {},
     "output_type": "execute_result"
    }
   ],
   "source": [
    "df['timestamp']= pd.to_datetime(df['timestamp'], unit= 's')\n",
    "df['timestamp'] "
   ],
   "metadata": {
    "collapsed": false,
    "ExecuteTime": {
     "end_time": "2024-01-30T03:25:16.662555800Z",
     "start_time": "2024-01-30T03:25:16.648114700Z"
    }
   },
   "id": "a2fe2bb630a30885",
   "execution_count": 46
  },
  {
   "cell_type": "code",
   "outputs": [
    {
     "data": {
      "text/plain": "genres\n(no genres listed)                     3.489362\nAction                                 2.935484\nAction|Adventure                       3.706306\nAction|Adventure|Animation             3.583333\nAction|Adventure|Animation|Children    3.410256\n                                         ...   \nSci-Fi|Thriller                        3.280172\nSci-Fi|Thriller|IMAX                   3.708333\nThriller                               3.426752\nWar                                    3.555556\nWestern                                3.658940\nName: rating, Length: 951, dtype: float64"
     },
     "execution_count": 58,
     "metadata": {},
     "output_type": "execute_result"
    }
   ],
   "source": [
    "rank_2005=  df.loc[(df['timestamp'] >= '2005-01-01') & (df['timestamp'] <= '2005-12-31')]\n",
    "rank_2005.sort_values(by='rating')\n",
    "\n",
    "df.groupby('genres')['rating'].mean() #promedio de cada genero en su rating\n"
   ],
   "metadata": {
    "collapsed": false,
    "ExecuteTime": {
     "end_time": "2024-01-30T03:44:23.135943900Z",
     "start_time": "2024-01-30T03:44:23.105076600Z"
    }
   },
   "id": "ed116563bb6bea80",
   "execution_count": 58
  },
  {
   "cell_type": "code",
   "outputs": [],
   "source": [],
   "metadata": {
    "collapsed": false
   },
   "id": "7d37658a8d72f853"
  }
 ],
 "metadata": {
  "kernelspec": {
   "display_name": "Python 3",
   "language": "python",
   "name": "python3"
  },
  "language_info": {
   "codemirror_mode": {
    "name": "ipython",
    "version": 2
   },
   "file_extension": ".py",
   "mimetype": "text/x-python",
   "name": "python",
   "nbconvert_exporter": "python",
   "pygments_lexer": "ipython2",
   "version": "2.7.6"
  }
 },
 "nbformat": 4,
 "nbformat_minor": 5
}
