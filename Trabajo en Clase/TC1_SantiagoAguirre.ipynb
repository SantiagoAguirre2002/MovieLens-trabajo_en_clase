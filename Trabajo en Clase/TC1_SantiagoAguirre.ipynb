{
 "cells": [
  {
   "cell_type": "code",
   "outputs": [
    {
     "name": "stderr",
     "output_type": "stream",
     "text": [
      "C:\\Users\\tatob\\AppData\\Local\\Temp\\ipykernel_135404\\2035458946.py:1: DeprecationWarning: \n",
      "Pyarrow will become a required dependency of pandas in the next major release of pandas (pandas 3.0),\n",
      "(to allow more performant data types, such as the Arrow string type, and better interoperability with other libraries)\n",
      "but was not found to be installed on your system.\n",
      "If this would cause problems for you,\n",
      "please provide us feedback at https://github.com/pandas-dev/pandas/issues/54466\n",
      "        \n",
      "  import pandas as pd\n"
     ]
    }
   ],
   "source": [
    "import pandas as pd"
   ],
   "metadata": {
    "collapsed": false,
    "ExecuteTime": {
     "end_time": "2024-02-02T22:36:38.696216Z",
     "start_time": "2024-02-02T22:36:34.839776Z"
    }
   },
   "id": "79e30f7a680ee77f",
   "execution_count": 2
  },
  {
   "cell_type": "code",
   "outputs": [
    {
     "data": {
      "text/plain": "   movieId                               title  \\\n0        1                    Toy Story (1995)   \n1        2                      Jumanji (1995)   \n2        3             Grumpier Old Men (1995)   \n3        4            Waiting to Exhale (1995)   \n4        5  Father of the Bride Part II (1995)   \n\n                                        genres  \n0  Adventure|Animation|Children|Comedy|Fantasy  \n1                   Adventure|Children|Fantasy  \n2                               Comedy|Romance  \n3                         Comedy|Drama|Romance  \n4                                       Comedy  ",
      "text/html": "<div>\n<style scoped>\n    .dataframe tbody tr th:only-of-type {\n        vertical-align: middle;\n    }\n\n    .dataframe tbody tr th {\n        vertical-align: top;\n    }\n\n    .dataframe thead th {\n        text-align: right;\n    }\n</style>\n<table border=\"1\" class=\"dataframe\">\n  <thead>\n    <tr style=\"text-align: right;\">\n      <th></th>\n      <th>movieId</th>\n      <th>title</th>\n      <th>genres</th>\n    </tr>\n  </thead>\n  <tbody>\n    <tr>\n      <th>0</th>\n      <td>1</td>\n      <td>Toy Story (1995)</td>\n      <td>Adventure|Animation|Children|Comedy|Fantasy</td>\n    </tr>\n    <tr>\n      <th>1</th>\n      <td>2</td>\n      <td>Jumanji (1995)</td>\n      <td>Adventure|Children|Fantasy</td>\n    </tr>\n    <tr>\n      <th>2</th>\n      <td>3</td>\n      <td>Grumpier Old Men (1995)</td>\n      <td>Comedy|Romance</td>\n    </tr>\n    <tr>\n      <th>3</th>\n      <td>4</td>\n      <td>Waiting to Exhale (1995)</td>\n      <td>Comedy|Drama|Romance</td>\n    </tr>\n    <tr>\n      <th>4</th>\n      <td>5</td>\n      <td>Father of the Bride Part II (1995)</td>\n      <td>Comedy</td>\n    </tr>\n  </tbody>\n</table>\n</div>"
     },
     "execution_count": 3,
     "metadata": {},
     "output_type": "execute_result"
    }
   ],
   "source": [
    "movies= pd.read_csv('../data/movies.csv')\n",
    "movies.head()"
   ],
   "metadata": {
    "collapsed": false,
    "ExecuteTime": {
     "end_time": "2024-02-02T22:36:38.770466500Z",
     "start_time": "2024-02-02T22:36:38.701048700Z"
    }
   },
   "id": "54c6e9db8cc07202",
   "execution_count": 3
  },
  {
   "cell_type": "code",
   "outputs": [
    {
     "data": {
      "text/plain": "   userId  movieId  rating  timestamp\n0       1        1     4.0  964982703\n1       1        3     4.0  964981247\n2       1        6     4.0  964982224\n3       1       47     5.0  964983815\n4       1       50     5.0  964982931",
      "text/html": "<div>\n<style scoped>\n    .dataframe tbody tr th:only-of-type {\n        vertical-align: middle;\n    }\n\n    .dataframe tbody tr th {\n        vertical-align: top;\n    }\n\n    .dataframe thead th {\n        text-align: right;\n    }\n</style>\n<table border=\"1\" class=\"dataframe\">\n  <thead>\n    <tr style=\"text-align: right;\">\n      <th></th>\n      <th>userId</th>\n      <th>movieId</th>\n      <th>rating</th>\n      <th>timestamp</th>\n    </tr>\n  </thead>\n  <tbody>\n    <tr>\n      <th>0</th>\n      <td>1</td>\n      <td>1</td>\n      <td>4.0</td>\n      <td>964982703</td>\n    </tr>\n    <tr>\n      <th>1</th>\n      <td>1</td>\n      <td>3</td>\n      <td>4.0</td>\n      <td>964981247</td>\n    </tr>\n    <tr>\n      <th>2</th>\n      <td>1</td>\n      <td>6</td>\n      <td>4.0</td>\n      <td>964982224</td>\n    </tr>\n    <tr>\n      <th>3</th>\n      <td>1</td>\n      <td>47</td>\n      <td>5.0</td>\n      <td>964983815</td>\n    </tr>\n    <tr>\n      <th>4</th>\n      <td>1</td>\n      <td>50</td>\n      <td>5.0</td>\n      <td>964982931</td>\n    </tr>\n  </tbody>\n</table>\n</div>"
     },
     "execution_count": 4,
     "metadata": {},
     "output_type": "execute_result"
    }
   ],
   "source": [
    "rating= pd.read_csv('../data/ratings.csv')\n",
    "rating.head()"
   ],
   "metadata": {
    "collapsed": false,
    "ExecuteTime": {
     "end_time": "2024-02-02T22:36:39.045014300Z",
     "start_time": "2024-02-02T22:36:38.773607800Z"
    }
   },
   "id": "df33f933fa3974f1",
   "execution_count": 4
  },
  {
   "cell_type": "code",
   "outputs": [
    {
     "name": "stdout",
     "output_type": "stream",
     "text": [
      "Valores unicos de movieId:<bound method Series.unique of 0            1\n",
      "1            2\n",
      "2            3\n",
      "3            4\n",
      "4            5\n",
      "         ...  \n",
      "9737    193581\n",
      "9738    193583\n",
      "9739    193585\n",
      "9740    193587\n",
      "9741    193609\n",
      "Name: movieId, Length: 9742, dtype: int64>\n",
      "Valores unicos de title:<bound method Series.unique of 0                                Toy Story (1995)\n",
      "1                                  Jumanji (1995)\n",
      "2                         Grumpier Old Men (1995)\n",
      "3                        Waiting to Exhale (1995)\n",
      "4              Father of the Bride Part II (1995)\n",
      "                          ...                    \n",
      "9737    Black Butler: Book of the Atlantic (2017)\n",
      "9738                 No Game No Life: Zero (2017)\n",
      "9739                                 Flint (2017)\n",
      "9740          Bungo Stray Dogs: Dead Apple (2018)\n",
      "9741          Andrew Dice Clay: Dice Rules (1991)\n",
      "Name: title, Length: 9742, dtype: object>\n",
      "Valores unicos de genres:<bound method Series.unique of 0       Adventure|Animation|Children|Comedy|Fantasy\n",
      "1                        Adventure|Children|Fantasy\n",
      "2                                    Comedy|Romance\n",
      "3                              Comedy|Drama|Romance\n",
      "4                                            Comedy\n",
      "                           ...                     \n",
      "9737                Action|Animation|Comedy|Fantasy\n",
      "9738                       Animation|Comedy|Fantasy\n",
      "9739                                          Drama\n",
      "9740                               Action|Animation\n",
      "9741                                         Comedy\n",
      "Name: genres, Length: 9742, dtype: object>\n"
     ]
    }
   ],
   "source": [
    "for i in movies.columns:\n",
    "    print(f'Valores unicos de {i}:{movies[i].unique}')"
   ],
   "metadata": {
    "collapsed": false,
    "ExecuteTime": {
     "end_time": "2024-02-02T22:36:40.496116900Z",
     "start_time": "2024-02-02T22:36:40.480756300Z"
    }
   },
   "id": "d584f0752bfdef45",
   "execution_count": 5
  },
  {
   "cell_type": "code",
   "outputs": [
    {
     "data": {
      "text/plain": "movieId    0\ntitle      0\ngenres     0\ndtype: int64"
     },
     "execution_count": 6,
     "metadata": {},
     "output_type": "execute_result"
    }
   ],
   "source": [
    "movies.isnull().sum()"
   ],
   "metadata": {
    "collapsed": false,
    "ExecuteTime": {
     "end_time": "2024-02-02T22:36:43.063354300Z",
     "start_time": "2024-02-02T22:36:43.052699300Z"
    }
   },
   "id": "206735c3a7016693",
   "execution_count": 6
  },
  {
   "cell_type": "code",
   "outputs": [
    {
     "data": {
      "text/plain": "userId       0\nmovieId      0\nrating       0\ntimestamp    0\ndtype: int64"
     },
     "execution_count": 7,
     "metadata": {},
     "output_type": "execute_result"
    }
   ],
   "source": [
    "rating.isnull().sum()"
   ],
   "metadata": {
    "collapsed": false,
    "ExecuteTime": {
     "end_time": "2024-02-02T22:36:44.242687800Z",
     "start_time": "2024-02-02T22:36:44.233940400Z"
    }
   },
   "id": "fc5109aa7e0ae829",
   "execution_count": 7
  },
  {
   "cell_type": "markdown",
   "source": [
    "¿Cuáles fueron los géneros mejor rankeados en promedio en el año 2005?\n"
   ],
   "metadata": {
    "collapsed": false
   },
   "id": "ab2fc219a4b27b41"
  },
  {
   "cell_type": "code",
   "outputs": [
    {
     "data": {
      "text/plain": "   movieId             title                                       genres  \\\n0        1  Toy Story (1995)  Adventure|Animation|Children|Comedy|Fantasy   \n1        1  Toy Story (1995)  Adventure|Animation|Children|Comedy|Fantasy   \n2        1  Toy Story (1995)  Adventure|Animation|Children|Comedy|Fantasy   \n3        1  Toy Story (1995)  Adventure|Animation|Children|Comedy|Fantasy   \n4        1  Toy Story (1995)  Adventure|Animation|Children|Comedy|Fantasy   \n\n   userId  rating   timestamp  \n0       1     4.0   964982703  \n1       5     4.0   847434962  \n2       7     4.5  1106635946  \n3      15     2.5  1510577970  \n4      17     4.5  1305696483  ",
      "text/html": "<div>\n<style scoped>\n    .dataframe tbody tr th:only-of-type {\n        vertical-align: middle;\n    }\n\n    .dataframe tbody tr th {\n        vertical-align: top;\n    }\n\n    .dataframe thead th {\n        text-align: right;\n    }\n</style>\n<table border=\"1\" class=\"dataframe\">\n  <thead>\n    <tr style=\"text-align: right;\">\n      <th></th>\n      <th>movieId</th>\n      <th>title</th>\n      <th>genres</th>\n      <th>userId</th>\n      <th>rating</th>\n      <th>timestamp</th>\n    </tr>\n  </thead>\n  <tbody>\n    <tr>\n      <th>0</th>\n      <td>1</td>\n      <td>Toy Story (1995)</td>\n      <td>Adventure|Animation|Children|Comedy|Fantasy</td>\n      <td>1</td>\n      <td>4.0</td>\n      <td>964982703</td>\n    </tr>\n    <tr>\n      <th>1</th>\n      <td>1</td>\n      <td>Toy Story (1995)</td>\n      <td>Adventure|Animation|Children|Comedy|Fantasy</td>\n      <td>5</td>\n      <td>4.0</td>\n      <td>847434962</td>\n    </tr>\n    <tr>\n      <th>2</th>\n      <td>1</td>\n      <td>Toy Story (1995)</td>\n      <td>Adventure|Animation|Children|Comedy|Fantasy</td>\n      <td>7</td>\n      <td>4.5</td>\n      <td>1106635946</td>\n    </tr>\n    <tr>\n      <th>3</th>\n      <td>1</td>\n      <td>Toy Story (1995)</td>\n      <td>Adventure|Animation|Children|Comedy|Fantasy</td>\n      <td>15</td>\n      <td>2.5</td>\n      <td>1510577970</td>\n    </tr>\n    <tr>\n      <th>4</th>\n      <td>1</td>\n      <td>Toy Story (1995)</td>\n      <td>Adventure|Animation|Children|Comedy|Fantasy</td>\n      <td>17</td>\n      <td>4.5</td>\n      <td>1305696483</td>\n    </tr>\n  </tbody>\n</table>\n</div>"
     },
     "execution_count": 8,
     "metadata": {},
     "output_type": "execute_result"
    }
   ],
   "source": [
    "frame= [movies, rating]\n",
    "df= pd.merge(movies,rating, on='movieId')\n",
    "df.head()"
   ],
   "metadata": {
    "collapsed": false,
    "ExecuteTime": {
     "end_time": "2024-02-02T22:36:47.444116700Z",
     "start_time": "2024-02-02T22:36:47.407227800Z"
    }
   },
   "id": "d2a70949ff063bef",
   "execution_count": 8
  },
  {
   "cell_type": "code",
   "outputs": [
    {
     "data": {
      "text/plain": "0        2000-07-30 18:45:03\n1        1996-11-08 06:36:02\n2        2005-01-25 06:52:26\n3        2017-11-13 12:59:30\n4        2011-05-18 05:28:03\n                 ...        \n100831   2018-09-16 14:44:42\n100832   2018-09-16 14:52:25\n100833   2018-09-16 14:56:45\n100834   2018-09-16 15:00:21\n100835   2018-09-17 04:13:26\nName: timestamp, Length: 100836, dtype: datetime64[ns]"
     },
     "execution_count": 10,
     "metadata": {},
     "output_type": "execute_result"
    }
   ],
   "source": [
    "df['timestamp']= pd.to_datetime(df['timestamp'], unit= 's')\n",
    "df['timestamp'] "
   ],
   "metadata": {
    "collapsed": false,
    "ExecuteTime": {
     "end_time": "2024-02-02T22:36:54.110502600Z",
     "start_time": "2024-02-02T22:36:54.090507Z"
    }
   },
   "id": "a2fe2bb630a30885",
   "execution_count": 10
  },
  {
   "cell_type": "code",
   "outputs": [
    {
     "data": {
      "text/plain": "       movieId                                              title  \\\n75347     7649                 Babylon 5: In the Beginning (1998)   \n43640     2422                   Karate Kid, Part III, The (1989)   \n11078      374                                 Richie Rich (1994)   \n73628     7117                                  Leprechaun (1993)   \n73626     7116                Diabolique (Les diaboliques) (1955)   \n...        ...                                                ...   \n47825     2762                            Sixth Sense, The (1999)   \n76503     8636                                Spider-Man 2 (2004)   \n47752     2762                            Sixth Sense, The (1999)   \n8917       318                   Shawshank Redemption, The (1994)   \n9655       345  Adventures of Priscilla, Queen of the Desert, ...   \n\n                                genres  userId  rating           timestamp  \n75347                 Adventure|Sci-Fi     287     0.5 2005-03-07 21:30:45  \n43640  Action|Adventure|Children|Drama     287     0.5 2005-03-07 21:15:20  \n11078                  Children|Comedy     608     0.5 2005-05-31 02:07:15  \n73628                    Comedy|Horror     287     0.5 2005-03-07 21:31:10  \n73626          Horror|Mystery|Thriller     594     0.5 2005-02-21 01:51:05  \n...                                ...     ...     ...                 ...  \n47825             Drama|Horror|Mystery     488     5.0 2005-04-01 19:01:08  \n76503     Action|Adventure|Sci-Fi|IMAX      91     5.0 2005-04-05 14:54:45  \n47752             Drama|Horror|Mystery     286     5.0 2005-06-23 21:43:41  \n8917                       Crime|Drama     502     5.0 2005-03-25 13:30:39  \n9655                      Comedy|Drama     250     5.0 2005-07-13 01:18:08  \n\n[5810 rows x 6 columns]",
      "text/html": "<div>\n<style scoped>\n    .dataframe tbody tr th:only-of-type {\n        vertical-align: middle;\n    }\n\n    .dataframe tbody tr th {\n        vertical-align: top;\n    }\n\n    .dataframe thead th {\n        text-align: right;\n    }\n</style>\n<table border=\"1\" class=\"dataframe\">\n  <thead>\n    <tr style=\"text-align: right;\">\n      <th></th>\n      <th>movieId</th>\n      <th>title</th>\n      <th>genres</th>\n      <th>userId</th>\n      <th>rating</th>\n      <th>timestamp</th>\n    </tr>\n  </thead>\n  <tbody>\n    <tr>\n      <th>75347</th>\n      <td>7649</td>\n      <td>Babylon 5: In the Beginning (1998)</td>\n      <td>Adventure|Sci-Fi</td>\n      <td>287</td>\n      <td>0.5</td>\n      <td>2005-03-07 21:30:45</td>\n    </tr>\n    <tr>\n      <th>43640</th>\n      <td>2422</td>\n      <td>Karate Kid, Part III, The (1989)</td>\n      <td>Action|Adventure|Children|Drama</td>\n      <td>287</td>\n      <td>0.5</td>\n      <td>2005-03-07 21:15:20</td>\n    </tr>\n    <tr>\n      <th>11078</th>\n      <td>374</td>\n      <td>Richie Rich (1994)</td>\n      <td>Children|Comedy</td>\n      <td>608</td>\n      <td>0.5</td>\n      <td>2005-05-31 02:07:15</td>\n    </tr>\n    <tr>\n      <th>73628</th>\n      <td>7117</td>\n      <td>Leprechaun (1993)</td>\n      <td>Comedy|Horror</td>\n      <td>287</td>\n      <td>0.5</td>\n      <td>2005-03-07 21:31:10</td>\n    </tr>\n    <tr>\n      <th>73626</th>\n      <td>7116</td>\n      <td>Diabolique (Les diaboliques) (1955)</td>\n      <td>Horror|Mystery|Thriller</td>\n      <td>594</td>\n      <td>0.5</td>\n      <td>2005-02-21 01:51:05</td>\n    </tr>\n    <tr>\n      <th>...</th>\n      <td>...</td>\n      <td>...</td>\n      <td>...</td>\n      <td>...</td>\n      <td>...</td>\n      <td>...</td>\n    </tr>\n    <tr>\n      <th>47825</th>\n      <td>2762</td>\n      <td>Sixth Sense, The (1999)</td>\n      <td>Drama|Horror|Mystery</td>\n      <td>488</td>\n      <td>5.0</td>\n      <td>2005-04-01 19:01:08</td>\n    </tr>\n    <tr>\n      <th>76503</th>\n      <td>8636</td>\n      <td>Spider-Man 2 (2004)</td>\n      <td>Action|Adventure|Sci-Fi|IMAX</td>\n      <td>91</td>\n      <td>5.0</td>\n      <td>2005-04-05 14:54:45</td>\n    </tr>\n    <tr>\n      <th>47752</th>\n      <td>2762</td>\n      <td>Sixth Sense, The (1999)</td>\n      <td>Drama|Horror|Mystery</td>\n      <td>286</td>\n      <td>5.0</td>\n      <td>2005-06-23 21:43:41</td>\n    </tr>\n    <tr>\n      <th>8917</th>\n      <td>318</td>\n      <td>Shawshank Redemption, The (1994)</td>\n      <td>Crime|Drama</td>\n      <td>502</td>\n      <td>5.0</td>\n      <td>2005-03-25 13:30:39</td>\n    </tr>\n    <tr>\n      <th>9655</th>\n      <td>345</td>\n      <td>Adventures of Priscilla, Queen of the Desert, ...</td>\n      <td>Comedy|Drama</td>\n      <td>250</td>\n      <td>5.0</td>\n      <td>2005-07-13 01:18:08</td>\n    </tr>\n  </tbody>\n</table>\n<p>5810 rows × 6 columns</p>\n</div>"
     },
     "execution_count": 15,
     "metadata": {},
     "output_type": "execute_result"
    }
   ],
   "source": [
    "rank_2005=  df.loc[(df['timestamp'] >= '2005-01-01') & (df['timestamp'] <= '2005-12-31')]\n",
    "rank_2005.sort_values(by='rating')"
   ],
   "metadata": {
    "collapsed": false,
    "ExecuteTime": {
     "end_time": "2024-02-02T22:39:36.260893400Z",
     "start_time": "2024-02-02T22:39:36.185229300Z"
    }
   },
   "id": "ed116563bb6bea80",
   "execution_count": 15
  },
  {
   "cell_type": "code",
   "outputs": [
    {
     "data": {
      "text/plain": "genres\n(no genres listed)                     3.489362\nAction                                 2.935484\nAction|Adventure                       3.706306\nAction|Adventure|Animation             3.583333\nAction|Adventure|Animation|Children    3.410256\n                                         ...   \nSci-Fi|Thriller                        3.280172\nSci-Fi|Thriller|IMAX                   3.708333\nThriller                               3.426752\nWar                                    3.555556\nWestern                                3.658940\nName: rating, Length: 951, dtype: float64"
     },
     "execution_count": 16,
     "metadata": {},
     "output_type": "execute_result"
    }
   ],
   "source": [
    "#promedio\n",
    "df.groupby('genres')['rating'].mean() #promedio de cada genero en su rating\n"
   ],
   "metadata": {
    "collapsed": false,
    "ExecuteTime": {
     "end_time": "2024-02-02T22:39:50.008112100Z",
     "start_time": "2024-02-02T22:39:49.978382600Z"
    }
   },
   "id": "2f67d7d668fa3e40",
   "execution_count": 16
  },
  {
   "cell_type": "markdown",
   "source": [
    "¿Cuál es el top 5 de películas mejor rankeadas en promedio?\n"
   ],
   "metadata": {
    "collapsed": false
   },
   "id": "b80ac76989db1054"
  },
  {
   "cell_type": "code",
   "outputs": [
    {
     "name": "stdout",
     "output_type": "stream",
     "text": [
      "title\n",
      "Gena the Crocodile (1969)              5.0\n",
      "True Stories (1986)                    5.0\n",
      "Cosmic Scrat-tastrophe (2015)          5.0\n",
      "Love and Pigeons (1985)                5.0\n",
      "Red Sorghum (Hong gao liang) (1987)    5.0\n",
      "Name: rating, dtype: float64\n"
     ]
    }
   ],
   "source": [
    "rating_average = df.groupby('title')['rating'].mean()\n",
    "print(rating_average.sort_values(ascending=False).head(5))"
   ],
   "metadata": {
    "collapsed": false,
    "ExecuteTime": {
     "end_time": "2024-02-02T22:39:16.514790300Z",
     "start_time": "2024-02-02T22:39:16.355566600Z"
    }
   },
   "id": "896eaa22617338ad",
   "execution_count": 14
  },
  {
   "cell_type": "markdown",
   "source": [
    "¿Cuál es el género con más reviews?\n"
   ],
   "metadata": {
    "collapsed": false
   },
   "id": "c5f6b6d0067a5cc2"
  },
  {
   "cell_type": "code",
   "outputs": [
    {
     "name": "stdout",
     "output_type": "stream",
     "text": [
      "El géro con más reviews fue genres\n",
      "Comedy    7196\n",
      "Name: rating, dtype: int64\n"
     ]
    }
   ],
   "source": [
    "reviews = df.groupby('genres')['rating'].count()\n",
    "print(f'El géro con más reviews fue {reviews.sort_values(ascending=False).head(1)}')"
   ],
   "metadata": {
    "collapsed": false,
    "ExecuteTime": {
     "end_time": "2024-02-02T22:44:30.365528100Z",
     "start_time": "2024-02-02T22:44:30.334508600Z"
    }
   },
   "id": "a796a5c2de770f3f",
   "execution_count": 17
  },
  {
   "cell_type": "markdown",
   "source": [
    "¿Cuáles es el género por año con mejor rating entre el año 2000 y 2010?\n"
   ],
   "metadata": {
    "collapsed": false
   },
   "id": "e18afa1609b6c040"
  },
  {
   "cell_type": "code",
   "outputs": [
    {
     "data": {
      "text/plain": "timestamp\n2000                Animation|Comedy|Drama|Fantasy\n2001                          Action|Drama|Western\n2002      Action|Adventure|Animation|Horror|Sci-Fi\n2003      Action|Adventure|Animation|Drama|Fantasy\n2004     Adventure|Children|Comedy|Fantasy|Musical\n2005                    Adventure|Animation|Comedy\n2006                    Action|Romance|War|Western\n2007    Adventure|Animation|Children|Comedy|Sci-Fi\n2008    Adventure|Animation|Children|Comedy|Sci-Fi\n2009     Action|Adventure|Mystery|Romance|Thriller\n2010                         Action|Comedy|Musical\nName: rating, dtype: object"
     },
     "execution_count": 18,
     "metadata": {},
     "output_type": "execute_result"
    }
   ],
   "source": [
    "rating = df[(df['timestamp'].dt.year >= 2000) & (df['timestamp'].dt.year <= 2010)]\n",
    "\n",
    "best_rating = rating.groupby(['genres', rating['timestamp'].dt.year])['rating'].mean()\n",
    "\n",
    "gener_year = best_rating.groupby(level=1).idxmax().str[0]\n",
    "\n",
    "gener_year"
   ],
   "metadata": {
    "collapsed": false,
    "ExecuteTime": {
     "end_time": "2024-02-02T22:47:22.538105500Z",
     "start_time": "2024-02-02T22:47:22.451310600Z"
    }
   },
   "id": "86c1c12dfe330a15",
   "execution_count": 18
  },
  {
   "cell_type": "markdown",
   "source": [
    "¿Cuál es el usuario con más críticas y cuál es su género favorito?\n",
    "\n"
   ],
   "metadata": {
    "collapsed": false
   },
   "id": "aab304031e484b17"
  },
  {
   "cell_type": "code",
   "outputs": [
    {
     "name": "stdout",
     "output_type": "stream",
     "text": [
      "El usuario con mas criticas fue el  \n",
      " userId\n",
      "414    2698\n",
      "Name: rating, dtype: int64 y su genero favortiro es Adventure|Animation|Children|Comedy|Fantasy\n"
     ]
    }
   ],
   "source": [
    "user_id = df.groupby('userId')['rating'].count().sort_values(ascending=False).head(1)\n",
    "\n",
    "genero_favorito = df[df['userId'] == df['userId'].value_counts().idxmax()]['genres'].values[0]\n",
    "\n",
    "print(f'El usuario con mas criticas fue el  \\n {user_id} y su genero favortiro es {genero_favorito}')"
   ],
   "metadata": {
    "collapsed": false,
    "ExecuteTime": {
     "end_time": "2024-02-02T22:52:52.854523700Z",
     "start_time": "2024-02-02T22:52:52.828510900Z"
    }
   },
   "id": "fc8fc9e8c486168",
   "execution_count": 30
  },
  {
   "cell_type": "markdown",
   "source": [
    "¿Cúales fueron las películas con peores ratings?\n"
   ],
   "metadata": {
    "collapsed": false
   },
   "id": "82771a32f07b8765"
  },
  {
   "cell_type": "code",
   "outputs": [
    {
     "name": "stdout",
     "output_type": "stream",
     "text": [
      "title\n",
      "Rust and Bone (De rouille et d'os) (2012)     0.5\n",
      "The Emoji Movie (2017)                        0.5\n",
      "The Butterfly Effect 3: Revelations (2009)    0.5\n",
      "Follow Me, Boys! (1966)                       0.5\n",
      "The Beast of Hollow Mountain (1956)           0.5\n",
      "Name: rating, dtype: float64\n"
     ]
    }
   ],
   "source": [
    "worst_average = df.groupby('title')['rating'].mean()\n",
    "print(worst_average.sort_values(ascending=True).head(5))"
   ],
   "metadata": {
    "collapsed": false,
    "ExecuteTime": {
     "end_time": "2024-02-02T22:56:04.697422100Z",
     "start_time": "2024-02-02T22:56:04.641863Z"
    }
   },
   "id": "3f92115d59911186",
   "execution_count": 33
  },
  {
   "cell_type": "markdown",
   "source": [
    "¿Cuál es la peor combinación de género en ratings?"
   ],
   "metadata": {
    "collapsed": false
   },
   "id": "1e9d2dbfe6090475"
  },
  {
   "cell_type": "code",
   "outputs": [
    {
     "name": "stdout",
     "output_type": "stream",
     "text": [
      "genres\n",
      "Adventure|Children|Comedy|Sci-Fi       0.5\n",
      "Crime|Horror|Sci-Fi                    0.5\n",
      "Animation|Children|Comedy|Drama        0.5\n",
      "Children|Horror|Sci-Fi                 0.5\n",
      "Action|Adventure|Comedy|Sci-Fi|IMAX    0.5\n",
      "Name: rating, dtype: float64\n"
     ]
    }
   ],
   "source": [
    "worst_combination = df.groupby('genres')['rating'].mean()\n",
    "print(worst_combination.sort_values(ascending=True).head(5))"
   ],
   "metadata": {
    "collapsed": false,
    "ExecuteTime": {
     "end_time": "2024-02-02T22:59:59.163621300Z",
     "start_time": "2024-02-02T22:59:59.132472400Z"
    }
   },
   "id": "eeaa30f6a3490ec1",
   "execution_count": 35
  }
 ],
 "metadata": {
  "kernelspec": {
   "display_name": "Python 3",
   "language": "python",
   "name": "python3"
  },
  "language_info": {
   "codemirror_mode": {
    "name": "ipython",
    "version": 2
   },
   "file_extension": ".py",
   "mimetype": "text/x-python",
   "name": "python",
   "nbconvert_exporter": "python",
   "pygments_lexer": "ipython2",
   "version": "2.7.6"
  }
 },
 "nbformat": 4,
 "nbformat_minor": 5
}
